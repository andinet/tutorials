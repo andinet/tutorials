{
  "nbformat": 4,
  "nbformat_minor": 0,
  "metadata": {
    "colab": {
      "name": "developer_guide.ipynb",
      "provenance": [],
      "collapsed_sections": []
    },
    "kernelspec": {
      "name": "python3",
      "display_name": "Python 3"
    },
    "accelerator": "GPU"
  },
  "cells": [
    {
      "cell_type": "markdown",
      "metadata": {
        "id": "WLbIJbxGDC95"
      },
      "source": [
        "# MONAI for PyTorch users\n",
        "This tutorial briefly introduces MONAI APIs and highlights its flexibility and usability. It assumes basic understanding of PyTorch, and shows how MONAI provide domain-optimized capabilities for deep learning in healthcare imaging."
      ]
    },
    {
      "cell_type": "markdown",
      "metadata": {
        "id": "mQGI9QnZE37_"
      },
      "source": [
        "## Install the package\n",
        "\n",
        "MONAI's core functionality is written in Python (3.6+) and only depends on Numpy (1.17+) and Pytorch (1.4+).\n",
        "\n",
        "This section installs the latest version of MONAI and verifies the installation."
      ]
    },
    {
      "cell_type": "code",
      "metadata": {
        "id": "G8pKPruSCe0e",
        "outputId": "189f5206-b21e-4b0d-c470-40efe1376a42",
        "colab": {
          "base_uri": "https://localhost:8080/",
          "height": 272
        }
      },
      "source": [
        "# install the latest dev branch from github\n",
        "%pip install -q monai==0.2.0\n",
        "\n",
        "import monai\n",
        "monai.config.print_config()"
      ],
      "execution_count": null,
      "outputs": [
        {
          "output_type": "stream",
          "text": [
            "MONAI version: 0.2.0\n",
            "Python version: 3.6.9 (default, Apr 18 2020, 01:56:04)  [GCC 8.4.0]\n",
            "Numpy version: 1.18.5\n",
            "Pytorch version: 1.5.1+cu101\n",
            "\n",
            "Optional dependencies:\n",
            "Pytorch Ignite version: 0.3.0\n",
            "Nibabel version: 3.0.2\n",
            "scikit-image version: 0.16.2\n",
            "Pillow version: 7.0.0\n",
            "Tensorboard version: 2.2.2\n",
            "\n",
            "For details about installing the optional dependencies, please visit:\n",
            "    https://docs.monai.io/en/latest/installation.html#installing-the-recommended-dependencies\n",
            "\n"
          ],
          "name": "stdout"
        }
      ]
    },
    {
      "cell_type": "markdown",
      "metadata": {
        "id": "XLZeyPZvd5SB"
      },
      "source": [
        "We'll need the following optional dependencies for Nifti format handling and remote data downloading"
      ]
    },
    {
      "cell_type": "code",
      "metadata": {
        "id": "8Akply-HeKHm"
      },
      "source": [
        "%pip install -q nibabel\n",
        "%pip install -q gdown\n",
        "\n",
        "import warnings\n",
        "warnings.filterwarnings(\"ignore\")"
      ],
      "execution_count": null,
      "outputs": []
    },
    {
      "cell_type": "markdown",
      "metadata": {
        "id": "yV7SEzjDF9-Q"
      },
      "source": [
        "## Access public medical imaging dataset in a few lines of code\n",
        "Using a publicly available benchmark is important for open and reproducible research. MONAI aims at providing quick access to the well-known public datasets. This section starts a dataset of [Medical Segmentation Decathlon](http://medicaldecathlon.com/).\n",
        "\n",
        "The `DecathlonDataset` object is a thin wrapper of `torch.data.utils.Dataset`. \n",
        "It has  `__getitem__` and `__len__` methods implemented, fully compatible with Pytorch's build-in data loader `torch.data.utils.DataLoader`.\n",
        "\n",
        "Compared with the PyTorch `Dataset` APIs, `DecathlonDataset` has the additional capabilities of\n",
        "- automatic downloading and unzipping data\n",
        "- caching of data as well as intermediate results of preprocessing\n",
        "- random splits of training, validation, and test \n"
      ]
    },
    {
      "cell_type": "code",
      "metadata": {
        "id": "wLSWNutZIDii",
        "outputId": "2577a4a2-8721-48f4-ca69-5525e28ff60a",
        "colab": {
          "base_uri": "https://localhost:8080/",
          "height": 119
        }
      },
      "source": [
        "from monai.apps import DecathlonDataset\n",
        "\n",
        "dataset = DecathlonDataset(root_dir=\"./\", task=\"Task05_Prostate\", section=\"training\", transform=None, download=True)\n",
        "print(f\"\\nnumber of subjects: {len(dataset)}.\\nThe first element in the dataset is {dataset[0]}.\")"
      ],
      "execution_count": null,
      "outputs": [
        {
          "output_type": "stream",
          "text": [
            "file ./Task05_Prostate.tar exists, skip downloading.\n",
            "extracted file ./Task05_Prostate exists, skip extracting.\n",
            "1/27 Load and cache transformed data:  [=                             ]\r2/27 Load and cache transformed data:  [==                            ]\r3/27 Load and cache transformed data:  [===                           ]\r4/27 Load and cache transformed data:  [====                          ]\r5/27 Load and cache transformed data:  [=====                         ]\r6/27 Load and cache transformed data:  [======                        ]\r7/27 Load and cache transformed data:  [=======                       ]\r8/27 Load and cache transformed data:  [========                      ]\r9/27 Load and cache transformed data:  [==========                    ]\r10/27 Load and cache transformed data:  [===========                   ]\r11/27 Load and cache transformed data:  [============                  ]\r12/27 Load and cache transformed data:  [=============                 ]\r13/27 Load and cache transformed data:  [==============                ]\r14/27 Load and cache transformed data:  [===============               ]\r15/27 Load and cache transformed data:  [================              ]\r16/27 Load and cache transformed data:  [=================             ]\r17/27 Load and cache transformed data:  [==================            ]\r18/27 Load and cache transformed data:  [====================          ]\r19/27 Load and cache transformed data:  [=====================         ]\r20/27 Load and cache transformed data:  [======================        ]\r21/27 Load and cache transformed data:  [=======================       ]\r22/27 Load and cache transformed data:  [========================      ]\r23/27 Load and cache transformed data:  [=========================     ]\r24/27 Load and cache transformed data:  [==========================    ]\r25/27 Load and cache transformed data:  [===========================   ]\r26/27 Load and cache transformed data:  [============================  ]\r27/27 Load and cache transformed data:  [==============================]\r\n",
            "\n",
            "number of subjects: 27.\n",
            "The first element in the dataset is {'image': 'Task05_Prostate/imagesTr/prostate_16.nii.gz', 'label': 'Task05_Prostate/labelsTr/prostate_16.nii.gz'}.\n"
          ],
          "name": "stdout"
        }
      ]
    },
    {
      "cell_type": "markdown",
      "metadata": {
        "id": "POwC6_uvLFtt"
      },
      "source": [
        "The code section has created a `DecathlonDataset` object by downloading \"Task05_Prostate.tar\" (`download=True`) from the public repository, unzipping it, and parsing the JSON file provided by the archive.\n",
        "\n",
        "This is a three-class segmentation task for delineating prostate transitional zone and peripheral zone (background, TZ, PZ classes).  The input has two modalities, that is, T2 and ADC MRI."
      ]
    },
    {
      "cell_type": "markdown",
      "metadata": {
        "id": "3yRel2e3hxLo"
      },
      "source": [
        "`len(dataset)` and `dataset[0]` queries the size of the dataset, and fetches the first element of the dataset respectively.  As we haven't specified any image transforms for the dataset, the outputs of this iterable dataset are just pairs of image and segmentation file names."
      ]
    },
    {
      "cell_type": "markdown",
      "metadata": {
        "id": "_aMAATwVKmJy"
      },
      "source": [
        "## Flexible image data transformations\n",
        "This section introduces MONAI transforms that convert the file names into data arrays in memory, which will be ready to be consumed by the deep learning models. More examples on the pre-processing pipelines are available in the code repository's [`examples`](https://github.com/Project-MONAI/MONAI/tree/master/examples) and [`notebooks`](https://github.com/Project-MONAI/MONAI/tree/master/examples/notebooks), as well as [the developer's guide](https://github.com/Project-MONAI/MONAI/wiki/Developer-Guide-Transforms). Here we briefly cover the main features for image pre-processing."
      ]
    },
    {
      "cell_type": "markdown",
      "metadata": {
        "id": "s7xMT2cEjJbx"
      },
      "source": [
        "### Array vs. Dictionary-based transforms"
      ]
    },
    {
      "cell_type": "markdown",
      "metadata": {
        "id": "vtruH9sjmZBI"
      },
      "source": [
        "Array transforms are basic building blocks in MONAI, it is a simple callable similar to `torchvision.transforms`. Except for two differences:\n",
        "- MONAI transforms implements medical imaging specific processing functionality\n",
        "- MONAI transforms assumes that the inputs are numpy array, pytorch tensors or tensor-like objects\n",
        "\n",
        "The following starts a loader transform which converts a filename string into the actual image data.\n",
        "\n",
        "Please refer to [the documentation for more options](https://docs.monai.io/en/latest/transforms.html#monai.transforms.LoadNifti) to this transform."
      ]
    },
    {
      "cell_type": "code",
      "metadata": {
        "id": "TE5Q8axDjHRQ",
        "outputId": "1a5b5d40-0f2a-41af-ffac-0b7bb4783d1f",
        "colab": {
          "base_uri": "https://localhost:8080/",
          "height": 34
        }
      },
      "source": [
        "from monai.transforms import LoadNifti\n",
        "\n",
        "loader = LoadNifti(image_only=True)\n",
        "img_array = loader(\"Task05_Prostate/imagesTr/prostate_02.nii.gz\")\n",
        "print(img_array.shape)"
      ],
      "execution_count": null,
      "outputs": [
        {
          "output_type": "stream",
          "text": [
            "(320, 320, 24, 2)\n"
          ],
          "name": "stdout"
        }
      ]
    },
    {
      "cell_type": "markdown",
      "metadata": {
        "id": "AO-O5ZXFngUh"
      },
      "source": [
        "Dictionary transforms are nothing but wrappers of the array versions. Compared with their array-based counterparts, it's easier to apply the same type of operations or states to multiple data inputs.\n",
        "\n",
        "The following section reads a pair of image and segmentation mask, note that the `keys` need to be specified, so that the transforms know which items in the dictionary should be processed."
      ]
    },
    {
      "cell_type": "code",
      "metadata": {
        "id": "RryBbRnwMK8Y",
        "outputId": "bd0c0eb7-8d89-48d2-e23c-a43bb8c205c2",
        "colab": {
          "base_uri": "https://localhost:8080/",
          "height": 51
        }
      },
      "source": [
        "from monai.transforms import LoadNiftiD\n",
        "\n",
        "dict_loader = LoadNiftiD(keys=(\"image\", \"label\"))\n",
        "data_dict = dict_loader({\"image\": \"Task05_Prostate/imagesTr/prostate_02.nii.gz\", \n",
        "                         \"label\": \"Task05_Prostate/labelsTr/prostate_02.nii.gz\"})\n",
        "print(f\"image shape: {data_dict['image'].shape}, \\nlabel shape: {data_dict['label'].shape}\")"
      ],
      "execution_count": null,
      "outputs": [
        {
          "output_type": "stream",
          "text": [
            "image shape: (320, 320, 24, 2), \n",
            "label shape: (320, 320, 24)\n"
          ],
          "name": "stdout"
        }
      ]
    },
    {
      "cell_type": "markdown",
      "metadata": {
        "id": "x7nKWpKPoNvF"
      },
      "source": [
        "### Compose the transforms"
      ]
    },
    {
      "cell_type": "markdown",
      "metadata": {
        "id": "qqsFxN84opS1"
      },
      "source": [
        "In many cases, it is beneficial to build a chain of transforms, tuning the preprocessing parameters, making fast preprocessing pipelines. `monai.transforms.Compose` is designed for these use cases.\n",
        "\n",
        "The following code starts a transform chain to do multiple pre-processing steps:\n",
        "- Load Nifti images (with image meta-data information)\n",
        "- Make both image and label channel-first (reshape the image and add a channel dimension for the label)\n",
        "- Make both image and label 1 millimeter isotropic\n",
        "- Make both image and label to be in the \"RAS\" coordinate system\n",
        "- Scale the image intensities\n",
        "- Resize both image and label to spatial size (64, 64, 32)-millimeters\n",
        "- Randomly rotate and scale the image, but keep the output size to be (64, 64, 32)-mm\n",
        "- Convert image and label into torch tensors"
      ]
    },
    {
      "cell_type": "code",
      "metadata": {
        "id": "VdFXzJV-oNEM",
        "outputId": "b3179881-d1ef-444a-cfd6-fc9b3a93ac35",
        "colab": {
          "base_uri": "https://localhost:8080/",
          "height": 34
        }
      },
      "source": [
        "import numpy as np\n",
        "from monai.transforms import \\\n",
        "    LoadNiftiD, AsChannelFirstD, AddChannelD, ScaleIntensityD, ToTensorD, Compose, \\\n",
        "    AsDiscreteD, SpacingD, OrientationD, ResizeD, RandAffineD\n",
        "KEYS = (\"image\", \"label\")\n",
        "\n",
        "xform = Compose([\n",
        "    LoadNiftiD(KEYS),\n",
        "    AsChannelFirstD(\"image\"),\n",
        "    AddChannelD(\"label\"),\n",
        "    SpacingD(KEYS, pixdim=(1., 1., 1.), mode=('bilinear', 'nearest')),\n",
        "    OrientationD(KEYS, axcodes='RAS'),\n",
        "    ScaleIntensityD(keys=\"image\"),\n",
        "    ResizeD(KEYS, (64, 64, 32), mode=('trilinear', 'nearest')),\n",
        "    RandAffineD(KEYS, spatial_size=(-1, -1, -1),\n",
        "                rotate_range=(0, 0, np.pi/2),\n",
        "                scale_range=(0.1, 0.1),\n",
        "                mode=('bilinear', 'nearest'),\n",
        "                prob=1.0),\n",
        "    ToTensorD(KEYS),\n",
        "])\n",
        "\n",
        "data_dict = xform({\"image\": \"Task05_Prostate/imagesTr/prostate_02.nii.gz\", \n",
        "                   \"label\": \"Task05_Prostate/labelsTr/prostate_02.nii.gz\"})\n",
        "print(data_dict[\"image\"].shape, data_dict[\"label\"].shape)"
      ],
      "execution_count": null,
      "outputs": [
        {
          "output_type": "stream",
          "text": [
            "torch.Size([2, 64, 64, 32]) torch.Size([1, 64, 64, 32])\n"
          ],
          "name": "stdout"
        }
      ]
    },
    {
      "cell_type": "markdown",
      "metadata": {
        "id": "Lr91W7y0r-Xi"
      },
      "source": [
        "There are a set of useful transforms in MONAI, and many more to come.\n",
        "Please find out the details at https://docs.monai.io/en/latest/transforms.html"
      ]
    },
    {
      "cell_type": "markdown",
      "metadata": {
        "id": "HgSh9o-FsPHG"
      },
      "source": [
        "## Dataset, transform, and data loader\n",
        "To recap what we have:\n",
        "- Dataset: a thin wrapper of `torch.utils.data.Dataset`\n",
        "- Transform: a callable, can be a part of a transform chain made by `Compose`\n",
        "- Setting transforms to a dataset, will enable the data loading and preprocessing pipeline\n",
        "\n",
        "The pipeline can work with the pytorch native data loader, which provides multi-processing support and flexible batch sampling schemes.\n",
        "\n",
        "However, it is recommended to work with the MONAI data loader `monai.data.DataLoader`, which is a wrapper of the pytorch native. MONAI data loader mainly adds the capabilities of:\n",
        "- properly handling randomized augmentations in the multi-process contexts\n",
        "- customized collate functions to flatten multi-sample data list into individual training samples\n",
        "\n",
        "*The initialization of `DecathlonDataset` involves caching the (non-randomizable) transforms' results. It seems to be slow, but when using the initialized object for a training of multiple epochs, we effectively trade the space for much improved speed.*"
      ]
    },
    {
      "cell_type": "code",
      "metadata": {
        "id": "849czsBWt5yw",
        "outputId": "c62df238-883e-45f7-f215-066a51513e6f",
        "colab": {
          "base_uri": "https://localhost:8080/",
          "height": 68
        }
      },
      "source": [
        "import torch\n",
        "from monai.data import DataLoader\n",
        "\n",
        "# start a chain of transforms\n",
        "xform = Compose([\n",
        "    LoadNiftiD(KEYS),\n",
        "    AsChannelFirstD(\"image\"),\n",
        "    AddChannelD(\"label\"),\n",
        "    SpacingD(KEYS, pixdim=(1., 1., 1.), mode=('bilinear', 'nearest')),\n",
        "    OrientationD(KEYS, axcodes='RAS'),\n",
        "    ScaleIntensityD(keys=\"image\"),\n",
        "    ResizeD(KEYS, (64, 64, 32), mode=('trilinear', 'nearest')),\n",
        "    RandAffineD(KEYS, spatial_size=(-1, -1, -1),\n",
        "                rotate_range=(0, 0, np.pi/2),\n",
        "                scale_range=(0.1, 0.1),\n",
        "                mode=('bilinear', 'nearest'),\n",
        "                prob=1.0),\n",
        "    ToTensorD(KEYS),\n",
        "])\n",
        "# start a dataset\n",
        "dataset = DecathlonDataset(root_dir=\"./\", task=\"Task05_Prostate\", section=\"training\", transform=xform, download=True)\n",
        "\n",
        "# start a pytorch dataloader\n",
        "# data_loader = torch.utils.data.DataLoader(dataset, batch_size=1, shuffle=False, num_workers=1)\n",
        "data_loader = DataLoader(dataset, batch_size=1, shuffle=True, num_workers=1)"
      ],
      "execution_count": null,
      "outputs": [
        {
          "output_type": "stream",
          "text": [
            "file ./Task05_Prostate.tar exists, skip downloading.\n",
            "extracted file ./Task05_Prostate exists, skip extracting.\n",
            "27/27 Load and cache transformed data:  [==============================]\n"
          ],
          "name": "stdout"
        }
      ]
    },
    {
      "cell_type": "markdown",
      "metadata": {
        "id": "r8C2LV75vptv"
      },
      "source": [
        "Take a peek at what's happening in the `data_dict` (rerun the following section will generate randomly augmented samples from the dataset):"
      ]
    },
    {
      "cell_type": "code",
      "metadata": {
        "id": "7IIQ8bvTvo97",
        "outputId": "ac9fface-d6ee-47c2-e877-4f3e909e363c",
        "colab": {
          "base_uri": "https://localhost:8080/",
          "height": 184
        }
      },
      "source": [
        "import matplotlib.pyplot as plt\n",
        "import numpy as np\n",
        "\n",
        "data_dict = next(iter(data_loader))\n",
        "print(data_dict[\"image\"].shape, data_dict[\"label\"].shape, data_dict[\"image_meta_dict\"][\"filename_or_obj\"])\n",
        "\n",
        "plt.subplots(1, 3)\n",
        "plt.subplot(1, 3, 1); plt.imshow(data_dict[\"image\"][0, 0, ..., 16])\n",
        "plt.subplot(1, 3, 2); plt.imshow(data_dict[\"image\"][0, 1, ..., 16])\n",
        "plt.subplot(1, 3, 3); plt.imshow(data_dict[\"label\"][0, 0, ..., 16])\n",
        "plt.show()\n",
        "\n",
        "print(f\"unique labels: {np.unique(data_dict['label'])}\")"
      ],
      "execution_count": null,
      "outputs": [
        {
          "output_type": "stream",
          "text": [
            "torch.Size([1, 2, 64, 64, 32]) torch.Size([1, 1, 64, 64, 32]) ['Task05_Prostate/imagesTr/prostate_35.nii.gz']\n"
          ],
          "name": "stdout"
        },
        {
          "output_type": "display_data",
          "data": {
            "image/png": "[encoded data removed]",
            "text/plain": [
              "<Figure size 432x288 with 3 Axes>"
            ]
          },
          "metadata": {
            "tags": [],
            "needs_background": "light"
          }
        },
        {
          "output_type": "stream",
          "text": [
            "unique labels: [0. 1. 2.]\n"
          ],
          "name": "stdout"
        }
      ]
    },
    {
      "cell_type": "markdown",
      "metadata": {
        "id": "1lGzy62hpPe4"
      },
      "source": [
        "The data loader has added a batch dimension to both image and label, so that they are ready for the deep learning models.\n",
        "\n",
        "Because \"nearest\" interpolation mode is used for the label, the number of unique classes is preserved during the transforms."
      ]
    },
    {
      "cell_type": "markdown",
      "metadata": {
        "id": "Ru4U1eCdVR4M"
      },
      "source": [
        "## Layers, blocks, networks and loss functions\n",
        "\n",
        "We've gone through the data input pipeline. the properly preprocessed data are ready for the 3-class segmentation task using two modalities inputs.\n",
        "\n",
        "This section creates a UNet model, as well as a loss function and optimizer. \n",
        "\n",
        "All these modules are direct uses or extensions of the PyTorch interfaces (such as `torch.nn.Module`). They could be replaced by any customized Python code, as long as the code also follows the standard PyTorch APIs.\n",
        "\n",
        "MONAI's modules focus on providing enhanced modules for medical images analysis:\n",
        "- implements reference networks with the aims of both flexibility and code readability\n",
        "- predefined layers and blocks which are compatible with 1D, 2D and 3D networks\n",
        "- domain-specific loss functions"
      ]
    },
    {
      "cell_type": "code",
      "metadata": {
        "id": "ns1P9hNNVZU5"
      },
      "source": [
        "from monai.networks.nets import UNet\n",
        "from monai.networks.layers import Norm\n",
        "from monai.losses import DiceLoss\n",
        "\n",
        "device = torch.device('cuda:0')\n",
        "net = UNet(dimensions=3, in_channels=2, out_channels=3, channels=(16, 32, 64, 128, 256),\n",
        "           strides=(2, 2, 2, 2), num_res_units=2, norm=Norm.BATCH).to(device)\n",
        "loss = DiceLoss(to_onehot_y=True, softmax=True)\n",
        "opt = torch.optim.Adam(net.parameters(), 1e-2)"
      ],
      "execution_count": null,
      "outputs": []
    },
    {
      "cell_type": "markdown",
      "metadata": {
        "id": "y9cIBMY5ktcF"
      },
      "source": [
        "`UNet` is defined with a `dimensions` parameter. It specifies the number of spatial dimensions of the pytorch APIs, such as Conv1d, Conv2d and Conv3d. With the same implementation, it could be easily configured for 1D, 2D, 3D, and multi-modal training.\n",
        "\n",
        "`UNet` as an extension of `torch.nn.Module` is a set of MONAI blocks and layers organized in a specific way. The blocks and layers, such as commonly used combinations of \"Conv. + Feature Norm. + Activation\", are designed as reusable submodules."
      ]
    },
    {
      "cell_type": "markdown",
      "metadata": {
        "id": "XENK4QqZXeIl"
      },
      "source": [
        "## Sliding window inference\n",
        "For this commonly used module, MONAI provides a simple PyTorch based implementation, which only requires specifications of window size and a input model (which could be a `torch.nn.Module` implementation)."
      ]
    },
    {
      "cell_type": "markdown",
      "metadata": {
        "id": "69wwB8teaXdA"
      },
      "source": [
        "The following demo shows you a toy of sliding window inference on an input image of (1, 1, 200, 200) by aggregating (40, 40) spatial size windows running through all the spatial locations.\n",
        "\n",
        "You can change the `roi_size`, `sw_batch_size`, and `overlap` parameters to see their impacts on the sliding window outputs."
      ]
    },
    {
      "cell_type": "code",
      "metadata": {
        "id": "pYDG9BPHXlvC"
      },
      "source": [
        "from monai.inferers import SlidingWindowInferer\n",
        "\n",
        "class ToyModel:\n",
        "    # A simple model generates the output by adding an integer `pred` to input.\n",
        "    # each call of this instance increases the integer by 1.\n",
        "    pred = 0\n",
        "    def __call__(self, input):\n",
        "        self.pred = self.pred + 1\n",
        "        input = input + self.pred\n",
        "        return input\n",
        "\n",
        "infer = SlidingWindowInferer(roi_size=(40, 40), sw_batch_size=1, overlap=0)\n",
        "input_tensor = torch.zeros(1, 1, 200, 200)\n",
        "output_tensor = infer(input_tensor, ToyModel())"
      ],
      "execution_count": null,
      "outputs": []
    },
    {
      "cell_type": "code",
      "metadata": {
        "id": "xcP4zo65Y7m1",
        "outputId": "528c645a-dd93-4dc3-dfe5-3c381ce50906",
        "colab": {
          "base_uri": "https://localhost:8080/",
          "height": 269
        }
      },
      "source": [
        "plt.imshow(output_tensor[0, 0]); plt.show()"
      ],
      "execution_count": null,
      "outputs": [
        {
          "output_type": "display_data",
          "data": {
            "image/png": "[encoded data removed]",
            "text/plain": [
              "<Figure size 432x288 with 1 Axes>"
            ]
          },
          "metadata": {
            "tags": [],
            "needs_background": "light"
          }
        }
      ]
    },
    {
      "cell_type": "markdown",
      "metadata": {
        "id": "meGyNoAbPYOu"
      },
      "source": [
        "## Start a training workflow (with validations at every epoch)\n",
        "\n",
        "The input pipeline, network architectures, loss functions are all compatible with any existing pytorch-based workflow. Please see the examples folder for different use cases:\n",
        "https://github.com/Project-MONAI/MONAI/tree/master/examples"
      ]
    },
    {
      "cell_type": "markdown",
      "metadata": {
        "id": "7xw-_DrKSZZz"
      },
      "source": [
        "\n",
        "Here we would like to highlight the workflow utilities, built by MONAI based on PyTorch-Ignite.  The main goal is to reduce user's efforts when building relatively standard training workflows.\n",
        "\n",
        "To do so, we first install the optional dependency:\n",
        "\n",
        "**this installation step on a fresh Colab runtime may fail (due to a Colab limitation), \n",
        "if that's the case, please retart the runtime**\n",
        "\n",
        "**(menu bar -> Runtime -> Restart and run all)**"
      ]
    },
    {
      "cell_type": "code",
      "metadata": {
        "id": "kQnDhk3LPXj1",
        "outputId": "86d4720a-51d1-4e93-d7e5-10f0910ca62b",
        "colab": {
          "base_uri": "https://localhost:8080/",
          "height": 34
        }
      },
      "source": [
        "%pip install -q pytorch-ignite==0.3.0\n",
        "import ignite\n",
        "print(ignite.__version__)"
      ],
      "execution_count": null,
      "outputs": [
        {
          "output_type": "stream",
          "text": [
            "0.3.0\n"
          ],
          "name": "stdout"
        }
      ]
    },
    {
      "cell_type": "markdown",
      "metadata": {
        "id": "kvn_6mf9gZoA"
      },
      "source": [
        "The following commands will start a `SupervisedTrainer` instance. As an extension of Pytorch ignite's facilities, it combines all the elements mentioned before. Calling `trainer.run()` will train the network for two epochs and compute `MeadDice` metric based on the training data at the end of every epoch.\n",
        "\n",
        "The `key_train_metric` is used to track the progress of model quality improvement. Additional handlers could be set to do early stopping and learning rate scheduling.\n",
        "\n",
        "The `StatsHandler` is triggered at each training iteration, to print diagnostic information to stdout.  These could be configured to generate detailed training logs at a user-specified frequency.\n",
        "\n",
        "For more information about the event handling system, please refer to the documentation https://docs.monai.io/en/latest/handlers.html.\n",
        "\n",
        "It is worth noting that these features facilitate fast prototyping of regular training and validation pipelines.  The users can always choose to build their own pipelines, benefiting from the modules mentioned in the previous sections."
      ]
    },
    {
      "cell_type": "code",
      "metadata": {
        "id": "bRLOKFnLvm3c",
        "outputId": "64d3661d-c23a-4973-9fec-41f3fb5afb4e",
        "colab": {
          "base_uri": "https://localhost:8080/",
          "height": 1000
        }
      },
      "source": [
        "from monai.engines import SupervisedTrainer\n",
        "from monai.inferers import SlidingWindowInferer\n",
        "from monai.handlers import StatsHandler, MeanDice\n",
        "from monai.transforms import AsDiscreteD\n",
        "\n",
        "import sys\n",
        "import logging\n",
        "logging.basicConfig(stream=sys.stdout, level=logging.INFO)\n",
        "\n",
        "trainer = SupervisedTrainer(\n",
        "    device=device,\n",
        "    max_epochs=2,\n",
        "    train_data_loader=data_loader,\n",
        "    network=net,\n",
        "    optimizer=opt,\n",
        "    loss_function=loss,\n",
        "    inferer=SlidingWindowInferer((32, 32, -1), sw_batch_size=2),\n",
        "    post_transform=AsDiscreteD(keys=[\"pred\", \"label\"], argmax=(True, False), to_onehot=True, n_classes=3),\n",
        "    key_train_metric={\"train_meandice\": MeanDice(output_transform=lambda x: (x[\"pred\"], x[\"label\"]))},\n",
        "    train_handlers=StatsHandler(tag_name=\"train_loss\", output_transform=lambda x: x[\"loss\"]),\n",
        ")\n",
        "trainer.run()"
      ],
      "execution_count": null,
      "outputs": [
        {
          "output_type": "stream",
          "text": [
            "INFO:ignite.engine.engine.SupervisedTrainer:Will add AMP support when PyTorch v1.6 released.\n",
            "INFO:ignite.engine.engine.SupervisedTrainer:Engine run resuming from iteration 0, epoch 0 until 2 epochs\n",
            "INFO:ignite.engine.engine.SupervisedTrainer:Epoch: 1/2, Iter: 1/27 -- train_loss: 0.8300 \n",
            "INFO:ignite.engine.engine.SupervisedTrainer:Epoch: 1/2, Iter: 2/27 -- train_loss: 0.8070 \n",
            "INFO:ignite.engine.engine.SupervisedTrainer:Epoch: 1/2, Iter: 3/27 -- train_loss: 0.7730 \n",
            "INFO:ignite.engine.engine.SupervisedTrainer:Epoch: 1/2, Iter: 4/27 -- train_loss: 0.7455 \n",
            "INFO:ignite.engine.engine.SupervisedTrainer:Epoch: 1/2, Iter: 5/27 -- train_loss: 0.7017 \n",
            "INFO:ignite.engine.engine.SupervisedTrainer:Epoch: 1/2, Iter: 6/27 -- train_loss: 0.6914 \n",
            "INFO:ignite.engine.engine.SupervisedTrainer:Epoch: 1/2, Iter: 7/27 -- train_loss: 0.5823 \n",
            "INFO:ignite.engine.engine.SupervisedTrainer:Epoch: 1/2, Iter: 8/27 -- train_loss: 0.6486 \n",
            "INFO:ignite.engine.engine.SupervisedTrainer:Epoch: 1/2, Iter: 9/27 -- train_loss: 0.5716 \n",
            "INFO:ignite.engine.engine.SupervisedTrainer:Epoch: 1/2, Iter: 10/27 -- train_loss: 0.6636 \n",
            "INFO:ignite.engine.engine.SupervisedTrainer:Epoch: 1/2, Iter: 11/27 -- train_loss: 0.6333 \n",
            "INFO:ignite.engine.engine.SupervisedTrainer:Epoch: 1/2, Iter: 12/27 -- train_loss: 0.5575 \n",
            "INFO:ignite.engine.engine.SupervisedTrainer:Epoch: 1/2, Iter: 13/27 -- train_loss: 0.5325 \n",
            "INFO:ignite.engine.engine.SupervisedTrainer:Epoch: 1/2, Iter: 14/27 -- train_loss: 0.5564 \n",
            "INFO:ignite.engine.engine.SupervisedTrainer:Epoch: 1/2, Iter: 15/27 -- train_loss: 0.6645 \n",
            "INFO:ignite.engine.engine.SupervisedTrainer:Epoch: 1/2, Iter: 16/27 -- train_loss: 0.6264 \n",
            "INFO:ignite.engine.engine.SupervisedTrainer:Epoch: 1/2, Iter: 17/27 -- train_loss: 0.5970 \n",
            "INFO:ignite.engine.engine.SupervisedTrainer:Epoch: 1/2, Iter: 18/27 -- train_loss: 0.6368 \n",
            "INFO:ignite.engine.engine.SupervisedTrainer:Epoch: 1/2, Iter: 19/27 -- train_loss: 0.5552 \n",
            "INFO:ignite.engine.engine.SupervisedTrainer:Epoch: 1/2, Iter: 20/27 -- train_loss: 0.5308 \n",
            "INFO:ignite.engine.engine.SupervisedTrainer:Epoch: 1/2, Iter: 21/27 -- train_loss: 0.5136 \n",
            "INFO:ignite.engine.engine.SupervisedTrainer:Epoch: 1/2, Iter: 22/27 -- train_loss: 0.5495 \n",
            "INFO:ignite.engine.engine.SupervisedTrainer:Epoch: 1/2, Iter: 23/27 -- train_loss: 0.4681 \n",
            "INFO:ignite.engine.engine.SupervisedTrainer:Epoch: 1/2, Iter: 24/27 -- train_loss: 0.5541 \n",
            "INFO:ignite.engine.engine.SupervisedTrainer:Epoch: 1/2, Iter: 25/27 -- train_loss: 0.5206 \n",
            "INFO:ignite.engine.engine.SupervisedTrainer:Epoch: 1/2, Iter: 26/27 -- train_loss: 0.5928 \n",
            "INFO:ignite.engine.engine.SupervisedTrainer:Epoch: 1/2, Iter: 27/27 -- train_loss: 0.4953 \n",
            "INFO:ignite.engine.engine.SupervisedTrainer:Epoch[1] Complete. Time taken: 00:00:05\n",
            "INFO:ignite.engine.engine.SupervisedTrainer:Got new best metric of train_meandice: 0.41709441995179214\n",
            "INFO:ignite.engine.engine.SupervisedTrainer:Epoch[1] Metrics -- train_meandice: 0.4171 \n",
            "INFO:ignite.engine.engine.SupervisedTrainer:Key metric: train_meandice best value: 0.41709441995179214 at epoch: 1\n",
            "INFO:ignite.engine.engine.SupervisedTrainer:Epoch: 2/2, Iter: 1/27 -- train_loss: 0.5020 \n",
            "INFO:ignite.engine.engine.SupervisedTrainer:Epoch: 2/2, Iter: 2/27 -- train_loss: 0.5264 \n",
            "INFO:ignite.engine.engine.SupervisedTrainer:Epoch: 2/2, Iter: 3/27 -- train_loss: 0.5444 \n",
            "INFO:ignite.engine.engine.SupervisedTrainer:Epoch: 2/2, Iter: 4/27 -- train_loss: 0.5323 \n",
            "INFO:ignite.engine.engine.SupervisedTrainer:Epoch: 2/2, Iter: 5/27 -- train_loss: 0.4502 \n",
            "INFO:ignite.engine.engine.SupervisedTrainer:Epoch: 2/2, Iter: 6/27 -- train_loss: 0.5119 \n",
            "INFO:ignite.engine.engine.SupervisedTrainer:Epoch: 2/2, Iter: 7/27 -- train_loss: 0.5142 \n",
            "INFO:ignite.engine.engine.SupervisedTrainer:Epoch: 2/2, Iter: 8/27 -- train_loss: 0.6671 \n",
            "INFO:ignite.engine.engine.SupervisedTrainer:Epoch: 2/2, Iter: 9/27 -- train_loss: 0.5608 \n",
            "INFO:ignite.engine.engine.SupervisedTrainer:Epoch: 2/2, Iter: 10/27 -- train_loss: 0.4695 \n",
            "INFO:ignite.engine.engine.SupervisedTrainer:Epoch: 2/2, Iter: 11/27 -- train_loss: 0.4434 \n",
            "INFO:ignite.engine.engine.SupervisedTrainer:Epoch: 2/2, Iter: 12/27 -- train_loss: 0.5271 \n",
            "INFO:ignite.engine.engine.SupervisedTrainer:Epoch: 2/2, Iter: 13/27 -- train_loss: 0.5249 \n",
            "INFO:ignite.engine.engine.SupervisedTrainer:Epoch: 2/2, Iter: 14/27 -- train_loss: 0.5103 \n",
            "INFO:ignite.engine.engine.SupervisedTrainer:Epoch: 2/2, Iter: 15/27 -- train_loss: 0.5386 \n",
            "INFO:ignite.engine.engine.SupervisedTrainer:Epoch: 2/2, Iter: 16/27 -- train_loss: 0.4954 \n",
            "INFO:ignite.engine.engine.SupervisedTrainer:Epoch: 2/2, Iter: 17/27 -- train_loss: 0.5610 \n",
            "INFO:ignite.engine.engine.SupervisedTrainer:Epoch: 2/2, Iter: 18/27 -- train_loss: 0.5482 \n",
            "INFO:ignite.engine.engine.SupervisedTrainer:Epoch: 2/2, Iter: 19/27 -- train_loss: 0.6144 \n",
            "INFO:ignite.engine.engine.SupervisedTrainer:Epoch: 2/2, Iter: 20/27 -- train_loss: 0.5125 \n",
            "INFO:ignite.engine.engine.SupervisedTrainer:Epoch: 2/2, Iter: 21/27 -- train_loss: 0.4923 \n",
            "INFO:ignite.engine.engine.SupervisedTrainer:Epoch: 2/2, Iter: 22/27 -- train_loss: 0.4419 \n",
            "INFO:ignite.engine.engine.SupervisedTrainer:Epoch: 2/2, Iter: 23/27 -- train_loss: 0.4311 \n",
            "INFO:ignite.engine.engine.SupervisedTrainer:Epoch: 2/2, Iter: 24/27 -- train_loss: 0.4795 \n",
            "INFO:ignite.engine.engine.SupervisedTrainer:Epoch: 2/2, Iter: 25/27 -- train_loss: 0.5762 \n",
            "INFO:ignite.engine.engine.SupervisedTrainer:Epoch: 2/2, Iter: 26/27 -- train_loss: 0.6560 \n",
            "INFO:ignite.engine.engine.SupervisedTrainer:Epoch: 2/2, Iter: 27/27 -- train_loss: 0.6254 \n",
            "INFO:ignite.engine.engine.SupervisedTrainer:Epoch[2] Complete. Time taken: 00:00:05\n",
            "INFO:ignite.engine.engine.SupervisedTrainer:Got new best metric of train_meandice: 0.47739508748054504\n",
            "INFO:ignite.engine.engine.SupervisedTrainer:Epoch[2] Metrics -- train_meandice: 0.4774 \n",
            "INFO:ignite.engine.engine.SupervisedTrainer:Key metric: train_meandice best value: 0.47739508748054504 at epoch: 2\n",
            "INFO:ignite.engine.engine.SupervisedTrainer:Engine run complete. Time taken 00:00:10\n"
          ],
          "name": "stdout"
        }
      ]
    },
    {
      "cell_type": "markdown",
      "metadata": {
        "id": "19T1jA1m6BUY"
      },
      "source": [
        "## Deterministic training\n",
        "Deterministic training support is important for reproducible research.\n",
        "MONAI currently provides two mechanisms:\n",
        "\n",
        "1. set the random state of all the random transforms. This will not affect the global random state. For example:\n",
        "```python\n",
        "# define a transform chain for pre-processing\n",
        "train_transforms = monai.transforms.Compose([\n",
        "    LoadNiftid(keys=['image', 'label']),\n",
        "    RandRotate90d(keys=['image', 'label'], prob=0.2, spatial_axes=[0, 2]),\n",
        "    ... ...\n",
        "])\n",
        "# set determinism for reproducibility\n",
        "train_transforms.set_random_state(seed=0)\n",
        "```\n",
        "\n",
        "2. enable deterministic training globally for python, numpy and pytorh in one line of code, for example:\n",
        "``` \n",
        "monai.utils.set_determinism(seed=0, additional_settings=None)\n",
        "```"
      ]
    },
    {
      "cell_type": "markdown",
      "metadata": {
        "id": "riewzpdHc12h"
      },
      "source": [
        "## Summary\n",
        "\n",
        "We have walked through the major modules in MONAI. By making highly flexible extensions and wrappers, MONAI enhances the pytorch APIs from a medical image analysis perspective.\n",
        "\n",
        "There are software features which are not covered by this short tutorial, such as\n",
        "- post-processing transforms\n",
        "- visualization interfaces\n",
        "- incorporating data transforms from third-party medical imaging toolkits\n",
        "- building workflows with other popular deep learning frameworks\n",
        "- MONAI research\n",
        "\n",
        "For details of our latest milestone highlights, please visit https://docs.monai.io/en/latest/highlights.html.\n",
        "\n",
        "To dive into MONAI, the examples folder is a good starting point https://github.com/Project-MONAI/MONAI/tree/master/examples.\n",
        "\n",
        "For API documentation, please visit https://docs.monai.io.\n",
        "\n",
        "\n",
        "\n",
        "`© 2020 Project MONAI.`"
      ]
    }
  ]
}